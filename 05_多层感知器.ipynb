{
 "cells": [
  {
   "cell_type": "code",
   "execution_count": 1,
   "metadata": {},
   "outputs": [],
   "source": [
    "import torch \n",
    "import numpy as np\n",
    "import matplotlib.pyplot as plt\n",
    "import pandas as pd\n",
    "%matplotlib inline"
   ]
  },
  {
   "cell_type": "code",
   "execution_count": 3,
   "metadata": {},
   "outputs": [],
   "source": [
    "data = pd.read_csv('data/HR.csv')"
   ]
  },
  {
   "cell_type": "code",
   "execution_count": 4,
   "metadata": {},
   "outputs": [
    {
     "data": {
      "text/html": [
       "<div>\n",
       "<style scoped>\n",
       "    .dataframe tbody tr th:only-of-type {\n",
       "        vertical-align: middle;\n",
       "    }\n",
       "\n",
       "    .dataframe tbody tr th {\n",
       "        vertical-align: top;\n",
       "    }\n",
       "\n",
       "    .dataframe thead th {\n",
       "        text-align: right;\n",
       "    }\n",
       "</style>\n",
       "<table border=\"1\" class=\"dataframe\">\n",
       "  <thead>\n",
       "    <tr style=\"text-align: right;\">\n",
       "      <th></th>\n",
       "      <th>satisfaction_level</th>\n",
       "      <th>last_evaluation</th>\n",
       "      <th>number_project</th>\n",
       "      <th>average_montly_hours</th>\n",
       "      <th>time_spend_company</th>\n",
       "      <th>Work_accident</th>\n",
       "      <th>left</th>\n",
       "      <th>promotion_last_5years</th>\n",
       "      <th>part</th>\n",
       "      <th>salary</th>\n",
       "    </tr>\n",
       "  </thead>\n",
       "  <tbody>\n",
       "    <tr>\n",
       "      <th>0</th>\n",
       "      <td>0.38</td>\n",
       "      <td>0.53</td>\n",
       "      <td>2</td>\n",
       "      <td>157</td>\n",
       "      <td>3</td>\n",
       "      <td>0</td>\n",
       "      <td>1</td>\n",
       "      <td>0</td>\n",
       "      <td>sales</td>\n",
       "      <td>low</td>\n",
       "    </tr>\n",
       "    <tr>\n",
       "      <th>1</th>\n",
       "      <td>0.80</td>\n",
       "      <td>0.86</td>\n",
       "      <td>5</td>\n",
       "      <td>262</td>\n",
       "      <td>6</td>\n",
       "      <td>0</td>\n",
       "      <td>1</td>\n",
       "      <td>0</td>\n",
       "      <td>sales</td>\n",
       "      <td>medium</td>\n",
       "    </tr>\n",
       "    <tr>\n",
       "      <th>2</th>\n",
       "      <td>0.11</td>\n",
       "      <td>0.88</td>\n",
       "      <td>7</td>\n",
       "      <td>272</td>\n",
       "      <td>4</td>\n",
       "      <td>0</td>\n",
       "      <td>1</td>\n",
       "      <td>0</td>\n",
       "      <td>sales</td>\n",
       "      <td>medium</td>\n",
       "    </tr>\n",
       "    <tr>\n",
       "      <th>3</th>\n",
       "      <td>0.72</td>\n",
       "      <td>0.87</td>\n",
       "      <td>5</td>\n",
       "      <td>223</td>\n",
       "      <td>5</td>\n",
       "      <td>0</td>\n",
       "      <td>1</td>\n",
       "      <td>0</td>\n",
       "      <td>sales</td>\n",
       "      <td>low</td>\n",
       "    </tr>\n",
       "    <tr>\n",
       "      <th>4</th>\n",
       "      <td>0.37</td>\n",
       "      <td>0.52</td>\n",
       "      <td>2</td>\n",
       "      <td>159</td>\n",
       "      <td>3</td>\n",
       "      <td>0</td>\n",
       "      <td>1</td>\n",
       "      <td>0</td>\n",
       "      <td>sales</td>\n",
       "      <td>low</td>\n",
       "    </tr>\n",
       "  </tbody>\n",
       "</table>\n",
       "</div>"
      ],
      "text/plain": [
       "   satisfaction_level  last_evaluation  number_project  average_montly_hours  \\\n",
       "0                0.38             0.53               2                   157   \n",
       "1                0.80             0.86               5                   262   \n",
       "2                0.11             0.88               7                   272   \n",
       "3                0.72             0.87               5                   223   \n",
       "4                0.37             0.52               2                   159   \n",
       "\n",
       "   time_spend_company  Work_accident  left  promotion_last_5years   part  \\\n",
       "0                   3              0     1                      0  sales   \n",
       "1                   6              0     1                      0  sales   \n",
       "2                   4              0     1                      0  sales   \n",
       "3                   5              0     1                      0  sales   \n",
       "4                   3              0     1                      0  sales   \n",
       "\n",
       "   salary  \n",
       "0     low  \n",
       "1  medium  \n",
       "2  medium  \n",
       "3     low  \n",
       "4     low  "
      ]
     },
     "execution_count": 4,
     "metadata": {},
     "output_type": "execute_result"
    }
   ],
   "source": [
    "data.head()"
   ]
  },
  {
   "cell_type": "code",
   "execution_count": 5,
   "metadata": {},
   "outputs": [
    {
     "name": "stdout",
     "output_type": "stream",
     "text": [
      "<class 'pandas.core.frame.DataFrame'>\n",
      "RangeIndex: 14999 entries, 0 to 14998\n",
      "Data columns (total 10 columns):\n",
      " #   Column                 Non-Null Count  Dtype  \n",
      "---  ------                 --------------  -----  \n",
      " 0   satisfaction_level     14999 non-null  float64\n",
      " 1   last_evaluation        14999 non-null  float64\n",
      " 2   number_project         14999 non-null  int64  \n",
      " 3   average_montly_hours   14999 non-null  int64  \n",
      " 4   time_spend_company     14999 non-null  int64  \n",
      " 5   Work_accident          14999 non-null  int64  \n",
      " 6   left                   14999 non-null  int64  \n",
      " 7   promotion_last_5years  14999 non-null  int64  \n",
      " 8   part                   14999 non-null  object \n",
      " 9   salary                 14999 non-null  object \n",
      "dtypes: float64(2), int64(6), object(2)\n",
      "memory usage: 1.1+ MB\n"
     ]
    }
   ],
   "source": [
    "data.info()"
   ]
  },
  {
   "cell_type": "code",
   "execution_count": 6,
   "metadata": {},
   "outputs": [
    {
     "data": {
      "text/plain": [
       "array(['sales', 'accounting', 'hr', 'technical', 'support', 'management',\n",
       "       'IT', 'product_mng', 'marketing', 'RandD'], dtype=object)"
      ]
     },
     "execution_count": 6,
     "metadata": {},
     "output_type": "execute_result"
    }
   ],
   "source": [
    "data.part.unique()"
   ]
  },
  {
   "cell_type": "code",
   "execution_count": 7,
   "metadata": {},
   "outputs": [
    {
     "data": {
      "text/plain": [
       "array(['low', 'medium', 'high'], dtype=object)"
      ]
     },
     "execution_count": 7,
     "metadata": {},
     "output_type": "execute_result"
    }
   ],
   "source": [
    "data.salary.unique()"
   ]
  },
  {
   "cell_type": "code",
   "execution_count": 8,
   "metadata": {},
   "outputs": [
    {
     "data": {
      "text/plain": [
       "salary  part       \n",
       "high    IT               83\n",
       "        RandD            51\n",
       "        accounting       74\n",
       "        hr               45\n",
       "        management      225\n",
       "        marketing        80\n",
       "        product_mng      68\n",
       "        sales           269\n",
       "        support         141\n",
       "        technical       201\n",
       "low     IT              609\n",
       "        RandD           364\n",
       "        accounting      358\n",
       "        hr              335\n",
       "        management      180\n",
       "        marketing       402\n",
       "        product_mng     451\n",
       "        sales          2099\n",
       "        support        1146\n",
       "        technical      1372\n",
       "medium  IT              535\n",
       "        RandD           372\n",
       "        accounting      335\n",
       "        hr              359\n",
       "        management      225\n",
       "        marketing       376\n",
       "        product_mng     383\n",
       "        sales          1772\n",
       "        support         942\n",
       "        technical      1147\n",
       "dtype: int64"
      ]
     },
     "execution_count": 8,
     "metadata": {},
     "output_type": "execute_result"
    }
   ],
   "source": [
    "data.groupby(['salary','part']).size()"
   ]
  },
  {
   "cell_type": "code",
   "execution_count": 11,
   "metadata": {},
   "outputs": [],
   "source": [
    "data = data.join(pd.get_dummies(data.salary))"
   ]
  },
  {
   "cell_type": "code",
   "execution_count": 12,
   "metadata": {},
   "outputs": [],
   "source": [
    "del data['salary']"
   ]
  },
  {
   "cell_type": "code",
   "execution_count": 13,
   "metadata": {},
   "outputs": [],
   "source": [
    "data = data.join(pd.get_dummies(data.part))"
   ]
  },
  {
   "cell_type": "code",
   "execution_count": 14,
   "metadata": {},
   "outputs": [],
   "source": [
    "del data['part']"
   ]
  },
  {
   "cell_type": "code",
   "execution_count": 15,
   "metadata": {},
   "outputs": [
    {
     "data": {
      "text/html": [
       "<div>\n",
       "<style scoped>\n",
       "    .dataframe tbody tr th:only-of-type {\n",
       "        vertical-align: middle;\n",
       "    }\n",
       "\n",
       "    .dataframe tbody tr th {\n",
       "        vertical-align: top;\n",
       "    }\n",
       "\n",
       "    .dataframe thead th {\n",
       "        text-align: right;\n",
       "    }\n",
       "</style>\n",
       "<table border=\"1\" class=\"dataframe\">\n",
       "  <thead>\n",
       "    <tr style=\"text-align: right;\">\n",
       "      <th></th>\n",
       "      <th>satisfaction_level</th>\n",
       "      <th>last_evaluation</th>\n",
       "      <th>number_project</th>\n",
       "      <th>average_montly_hours</th>\n",
       "      <th>time_spend_company</th>\n",
       "      <th>Work_accident</th>\n",
       "      <th>left</th>\n",
       "      <th>promotion_last_5years</th>\n",
       "      <th>high</th>\n",
       "      <th>low</th>\n",
       "      <th>...</th>\n",
       "      <th>IT</th>\n",
       "      <th>RandD</th>\n",
       "      <th>accounting</th>\n",
       "      <th>hr</th>\n",
       "      <th>management</th>\n",
       "      <th>marketing</th>\n",
       "      <th>product_mng</th>\n",
       "      <th>sales</th>\n",
       "      <th>support</th>\n",
       "      <th>technical</th>\n",
       "    </tr>\n",
       "  </thead>\n",
       "  <tbody>\n",
       "    <tr>\n",
       "      <th>0</th>\n",
       "      <td>0.38</td>\n",
       "      <td>0.53</td>\n",
       "      <td>2</td>\n",
       "      <td>157</td>\n",
       "      <td>3</td>\n",
       "      <td>0</td>\n",
       "      <td>1</td>\n",
       "      <td>0</td>\n",
       "      <td>0</td>\n",
       "      <td>1</td>\n",
       "      <td>...</td>\n",
       "      <td>0</td>\n",
       "      <td>0</td>\n",
       "      <td>0</td>\n",
       "      <td>0</td>\n",
       "      <td>0</td>\n",
       "      <td>0</td>\n",
       "      <td>0</td>\n",
       "      <td>1</td>\n",
       "      <td>0</td>\n",
       "      <td>0</td>\n",
       "    </tr>\n",
       "    <tr>\n",
       "      <th>1</th>\n",
       "      <td>0.80</td>\n",
       "      <td>0.86</td>\n",
       "      <td>5</td>\n",
       "      <td>262</td>\n",
       "      <td>6</td>\n",
       "      <td>0</td>\n",
       "      <td>1</td>\n",
       "      <td>0</td>\n",
       "      <td>0</td>\n",
       "      <td>0</td>\n",
       "      <td>...</td>\n",
       "      <td>0</td>\n",
       "      <td>0</td>\n",
       "      <td>0</td>\n",
       "      <td>0</td>\n",
       "      <td>0</td>\n",
       "      <td>0</td>\n",
       "      <td>0</td>\n",
       "      <td>1</td>\n",
       "      <td>0</td>\n",
       "      <td>0</td>\n",
       "    </tr>\n",
       "    <tr>\n",
       "      <th>2</th>\n",
       "      <td>0.11</td>\n",
       "      <td>0.88</td>\n",
       "      <td>7</td>\n",
       "      <td>272</td>\n",
       "      <td>4</td>\n",
       "      <td>0</td>\n",
       "      <td>1</td>\n",
       "      <td>0</td>\n",
       "      <td>0</td>\n",
       "      <td>0</td>\n",
       "      <td>...</td>\n",
       "      <td>0</td>\n",
       "      <td>0</td>\n",
       "      <td>0</td>\n",
       "      <td>0</td>\n",
       "      <td>0</td>\n",
       "      <td>0</td>\n",
       "      <td>0</td>\n",
       "      <td>1</td>\n",
       "      <td>0</td>\n",
       "      <td>0</td>\n",
       "    </tr>\n",
       "    <tr>\n",
       "      <th>3</th>\n",
       "      <td>0.72</td>\n",
       "      <td>0.87</td>\n",
       "      <td>5</td>\n",
       "      <td>223</td>\n",
       "      <td>5</td>\n",
       "      <td>0</td>\n",
       "      <td>1</td>\n",
       "      <td>0</td>\n",
       "      <td>0</td>\n",
       "      <td>1</td>\n",
       "      <td>...</td>\n",
       "      <td>0</td>\n",
       "      <td>0</td>\n",
       "      <td>0</td>\n",
       "      <td>0</td>\n",
       "      <td>0</td>\n",
       "      <td>0</td>\n",
       "      <td>0</td>\n",
       "      <td>1</td>\n",
       "      <td>0</td>\n",
       "      <td>0</td>\n",
       "    </tr>\n",
       "    <tr>\n",
       "      <th>4</th>\n",
       "      <td>0.37</td>\n",
       "      <td>0.52</td>\n",
       "      <td>2</td>\n",
       "      <td>159</td>\n",
       "      <td>3</td>\n",
       "      <td>0</td>\n",
       "      <td>1</td>\n",
       "      <td>0</td>\n",
       "      <td>0</td>\n",
       "      <td>1</td>\n",
       "      <td>...</td>\n",
       "      <td>0</td>\n",
       "      <td>0</td>\n",
       "      <td>0</td>\n",
       "      <td>0</td>\n",
       "      <td>0</td>\n",
       "      <td>0</td>\n",
       "      <td>0</td>\n",
       "      <td>1</td>\n",
       "      <td>0</td>\n",
       "      <td>0</td>\n",
       "    </tr>\n",
       "  </tbody>\n",
       "</table>\n",
       "<p>5 rows × 21 columns</p>\n",
       "</div>"
      ],
      "text/plain": [
       "   satisfaction_level  last_evaluation  number_project  average_montly_hours  \\\n",
       "0                0.38             0.53               2                   157   \n",
       "1                0.80             0.86               5                   262   \n",
       "2                0.11             0.88               7                   272   \n",
       "3                0.72             0.87               5                   223   \n",
       "4                0.37             0.52               2                   159   \n",
       "\n",
       "   time_spend_company  Work_accident  left  promotion_last_5years  high  low  \\\n",
       "0                   3              0     1                      0     0    1   \n",
       "1                   6              0     1                      0     0    0   \n",
       "2                   4              0     1                      0     0    0   \n",
       "3                   5              0     1                      0     0    1   \n",
       "4                   3              0     1                      0     0    1   \n",
       "\n",
       "   ...  IT  RandD  accounting  hr  management  marketing  product_mng  sales  \\\n",
       "0  ...   0      0           0   0           0          0            0      1   \n",
       "1  ...   0      0           0   0           0          0            0      1   \n",
       "2  ...   0      0           0   0           0          0            0      1   \n",
       "3  ...   0      0           0   0           0          0            0      1   \n",
       "4  ...   0      0           0   0           0          0            0      1   \n",
       "\n",
       "   support  technical  \n",
       "0        0          0  \n",
       "1        0          0  \n",
       "2        0          0  \n",
       "3        0          0  \n",
       "4        0          0  \n",
       "\n",
       "[5 rows x 21 columns]"
      ]
     },
     "execution_count": 15,
     "metadata": {},
     "output_type": "execute_result"
    }
   ],
   "source": [
    "data.head()"
   ]
  },
  {
   "cell_type": "code",
   "execution_count": 16,
   "metadata": {},
   "outputs": [
    {
     "data": {
      "text/html": [
       "<div>\n",
       "<style scoped>\n",
       "    .dataframe tbody tr th:only-of-type {\n",
       "        vertical-align: middle;\n",
       "    }\n",
       "\n",
       "    .dataframe tbody tr th {\n",
       "        vertical-align: top;\n",
       "    }\n",
       "\n",
       "    .dataframe thead th {\n",
       "        text-align: right;\n",
       "    }\n",
       "</style>\n",
       "<table border=\"1\" class=\"dataframe\">\n",
       "  <thead>\n",
       "    <tr style=\"text-align: right;\">\n",
       "      <th></th>\n",
       "      <th>satisfaction_level</th>\n",
       "      <th>last_evaluation</th>\n",
       "      <th>number_project</th>\n",
       "      <th>average_montly_hours</th>\n",
       "      <th>time_spend_company</th>\n",
       "      <th>Work_accident</th>\n",
       "      <th>left</th>\n",
       "      <th>promotion_last_5years</th>\n",
       "      <th>high</th>\n",
       "      <th>low</th>\n",
       "      <th>...</th>\n",
       "      <th>IT</th>\n",
       "      <th>RandD</th>\n",
       "      <th>accounting</th>\n",
       "      <th>hr</th>\n",
       "      <th>management</th>\n",
       "      <th>marketing</th>\n",
       "      <th>product_mng</th>\n",
       "      <th>sales</th>\n",
       "      <th>support</th>\n",
       "      <th>technical</th>\n",
       "    </tr>\n",
       "  </thead>\n",
       "  <tbody>\n",
       "    <tr>\n",
       "      <th>0</th>\n",
       "      <td>0.38</td>\n",
       "      <td>0.53</td>\n",
       "      <td>2</td>\n",
       "      <td>157</td>\n",
       "      <td>3</td>\n",
       "      <td>0</td>\n",
       "      <td>1</td>\n",
       "      <td>0</td>\n",
       "      <td>0</td>\n",
       "      <td>1</td>\n",
       "      <td>...</td>\n",
       "      <td>0</td>\n",
       "      <td>0</td>\n",
       "      <td>0</td>\n",
       "      <td>0</td>\n",
       "      <td>0</td>\n",
       "      <td>0</td>\n",
       "      <td>0</td>\n",
       "      <td>1</td>\n",
       "      <td>0</td>\n",
       "      <td>0</td>\n",
       "    </tr>\n",
       "    <tr>\n",
       "      <th>1</th>\n",
       "      <td>0.80</td>\n",
       "      <td>0.86</td>\n",
       "      <td>5</td>\n",
       "      <td>262</td>\n",
       "      <td>6</td>\n",
       "      <td>0</td>\n",
       "      <td>1</td>\n",
       "      <td>0</td>\n",
       "      <td>0</td>\n",
       "      <td>0</td>\n",
       "      <td>...</td>\n",
       "      <td>0</td>\n",
       "      <td>0</td>\n",
       "      <td>0</td>\n",
       "      <td>0</td>\n",
       "      <td>0</td>\n",
       "      <td>0</td>\n",
       "      <td>0</td>\n",
       "      <td>1</td>\n",
       "      <td>0</td>\n",
       "      <td>0</td>\n",
       "    </tr>\n",
       "    <tr>\n",
       "      <th>2</th>\n",
       "      <td>0.11</td>\n",
       "      <td>0.88</td>\n",
       "      <td>7</td>\n",
       "      <td>272</td>\n",
       "      <td>4</td>\n",
       "      <td>0</td>\n",
       "      <td>1</td>\n",
       "      <td>0</td>\n",
       "      <td>0</td>\n",
       "      <td>0</td>\n",
       "      <td>...</td>\n",
       "      <td>0</td>\n",
       "      <td>0</td>\n",
       "      <td>0</td>\n",
       "      <td>0</td>\n",
       "      <td>0</td>\n",
       "      <td>0</td>\n",
       "      <td>0</td>\n",
       "      <td>1</td>\n",
       "      <td>0</td>\n",
       "      <td>0</td>\n",
       "    </tr>\n",
       "    <tr>\n",
       "      <th>3</th>\n",
       "      <td>0.72</td>\n",
       "      <td>0.87</td>\n",
       "      <td>5</td>\n",
       "      <td>223</td>\n",
       "      <td>5</td>\n",
       "      <td>0</td>\n",
       "      <td>1</td>\n",
       "      <td>0</td>\n",
       "      <td>0</td>\n",
       "      <td>1</td>\n",
       "      <td>...</td>\n",
       "      <td>0</td>\n",
       "      <td>0</td>\n",
       "      <td>0</td>\n",
       "      <td>0</td>\n",
       "      <td>0</td>\n",
       "      <td>0</td>\n",
       "      <td>0</td>\n",
       "      <td>1</td>\n",
       "      <td>0</td>\n",
       "      <td>0</td>\n",
       "    </tr>\n",
       "    <tr>\n",
       "      <th>4</th>\n",
       "      <td>0.37</td>\n",
       "      <td>0.52</td>\n",
       "      <td>2</td>\n",
       "      <td>159</td>\n",
       "      <td>3</td>\n",
       "      <td>0</td>\n",
       "      <td>1</td>\n",
       "      <td>0</td>\n",
       "      <td>0</td>\n",
       "      <td>1</td>\n",
       "      <td>...</td>\n",
       "      <td>0</td>\n",
       "      <td>0</td>\n",
       "      <td>0</td>\n",
       "      <td>0</td>\n",
       "      <td>0</td>\n",
       "      <td>0</td>\n",
       "      <td>0</td>\n",
       "      <td>1</td>\n",
       "      <td>0</td>\n",
       "      <td>0</td>\n",
       "    </tr>\n",
       "    <tr>\n",
       "      <th>...</th>\n",
       "      <td>...</td>\n",
       "      <td>...</td>\n",
       "      <td>...</td>\n",
       "      <td>...</td>\n",
       "      <td>...</td>\n",
       "      <td>...</td>\n",
       "      <td>...</td>\n",
       "      <td>...</td>\n",
       "      <td>...</td>\n",
       "      <td>...</td>\n",
       "      <td>...</td>\n",
       "      <td>...</td>\n",
       "      <td>...</td>\n",
       "      <td>...</td>\n",
       "      <td>...</td>\n",
       "      <td>...</td>\n",
       "      <td>...</td>\n",
       "      <td>...</td>\n",
       "      <td>...</td>\n",
       "      <td>...</td>\n",
       "      <td>...</td>\n",
       "    </tr>\n",
       "    <tr>\n",
       "      <th>14994</th>\n",
       "      <td>0.40</td>\n",
       "      <td>0.57</td>\n",
       "      <td>2</td>\n",
       "      <td>151</td>\n",
       "      <td>3</td>\n",
       "      <td>0</td>\n",
       "      <td>1</td>\n",
       "      <td>0</td>\n",
       "      <td>0</td>\n",
       "      <td>1</td>\n",
       "      <td>...</td>\n",
       "      <td>0</td>\n",
       "      <td>0</td>\n",
       "      <td>0</td>\n",
       "      <td>0</td>\n",
       "      <td>0</td>\n",
       "      <td>0</td>\n",
       "      <td>0</td>\n",
       "      <td>0</td>\n",
       "      <td>1</td>\n",
       "      <td>0</td>\n",
       "    </tr>\n",
       "    <tr>\n",
       "      <th>14995</th>\n",
       "      <td>0.37</td>\n",
       "      <td>0.48</td>\n",
       "      <td>2</td>\n",
       "      <td>160</td>\n",
       "      <td>3</td>\n",
       "      <td>0</td>\n",
       "      <td>1</td>\n",
       "      <td>0</td>\n",
       "      <td>0</td>\n",
       "      <td>1</td>\n",
       "      <td>...</td>\n",
       "      <td>0</td>\n",
       "      <td>0</td>\n",
       "      <td>0</td>\n",
       "      <td>0</td>\n",
       "      <td>0</td>\n",
       "      <td>0</td>\n",
       "      <td>0</td>\n",
       "      <td>0</td>\n",
       "      <td>1</td>\n",
       "      <td>0</td>\n",
       "    </tr>\n",
       "    <tr>\n",
       "      <th>14996</th>\n",
       "      <td>0.37</td>\n",
       "      <td>0.53</td>\n",
       "      <td>2</td>\n",
       "      <td>143</td>\n",
       "      <td>3</td>\n",
       "      <td>0</td>\n",
       "      <td>1</td>\n",
       "      <td>0</td>\n",
       "      <td>0</td>\n",
       "      <td>1</td>\n",
       "      <td>...</td>\n",
       "      <td>0</td>\n",
       "      <td>0</td>\n",
       "      <td>0</td>\n",
       "      <td>0</td>\n",
       "      <td>0</td>\n",
       "      <td>0</td>\n",
       "      <td>0</td>\n",
       "      <td>0</td>\n",
       "      <td>1</td>\n",
       "      <td>0</td>\n",
       "    </tr>\n",
       "    <tr>\n",
       "      <th>14997</th>\n",
       "      <td>0.11</td>\n",
       "      <td>0.96</td>\n",
       "      <td>6</td>\n",
       "      <td>280</td>\n",
       "      <td>4</td>\n",
       "      <td>0</td>\n",
       "      <td>1</td>\n",
       "      <td>0</td>\n",
       "      <td>0</td>\n",
       "      <td>1</td>\n",
       "      <td>...</td>\n",
       "      <td>0</td>\n",
       "      <td>0</td>\n",
       "      <td>0</td>\n",
       "      <td>0</td>\n",
       "      <td>0</td>\n",
       "      <td>0</td>\n",
       "      <td>0</td>\n",
       "      <td>0</td>\n",
       "      <td>1</td>\n",
       "      <td>0</td>\n",
       "    </tr>\n",
       "    <tr>\n",
       "      <th>14998</th>\n",
       "      <td>0.37</td>\n",
       "      <td>0.52</td>\n",
       "      <td>2</td>\n",
       "      <td>158</td>\n",
       "      <td>3</td>\n",
       "      <td>0</td>\n",
       "      <td>1</td>\n",
       "      <td>0</td>\n",
       "      <td>0</td>\n",
       "      <td>1</td>\n",
       "      <td>...</td>\n",
       "      <td>0</td>\n",
       "      <td>0</td>\n",
       "      <td>0</td>\n",
       "      <td>0</td>\n",
       "      <td>0</td>\n",
       "      <td>0</td>\n",
       "      <td>0</td>\n",
       "      <td>0</td>\n",
       "      <td>1</td>\n",
       "      <td>0</td>\n",
       "    </tr>\n",
       "  </tbody>\n",
       "</table>\n",
       "<p>14999 rows × 21 columns</p>\n",
       "</div>"
      ],
      "text/plain": [
       "       satisfaction_level  last_evaluation  number_project  \\\n",
       "0                    0.38             0.53               2   \n",
       "1                    0.80             0.86               5   \n",
       "2                    0.11             0.88               7   \n",
       "3                    0.72             0.87               5   \n",
       "4                    0.37             0.52               2   \n",
       "...                   ...              ...             ...   \n",
       "14994                0.40             0.57               2   \n",
       "14995                0.37             0.48               2   \n",
       "14996                0.37             0.53               2   \n",
       "14997                0.11             0.96               6   \n",
       "14998                0.37             0.52               2   \n",
       "\n",
       "       average_montly_hours  time_spend_company  Work_accident  left  \\\n",
       "0                       157                   3              0     1   \n",
       "1                       262                   6              0     1   \n",
       "2                       272                   4              0     1   \n",
       "3                       223                   5              0     1   \n",
       "4                       159                   3              0     1   \n",
       "...                     ...                 ...            ...   ...   \n",
       "14994                   151                   3              0     1   \n",
       "14995                   160                   3              0     1   \n",
       "14996                   143                   3              0     1   \n",
       "14997                   280                   4              0     1   \n",
       "14998                   158                   3              0     1   \n",
       "\n",
       "       promotion_last_5years  high  low  ...  IT  RandD  accounting  hr  \\\n",
       "0                          0     0    1  ...   0      0           0   0   \n",
       "1                          0     0    0  ...   0      0           0   0   \n",
       "2                          0     0    0  ...   0      0           0   0   \n",
       "3                          0     0    1  ...   0      0           0   0   \n",
       "4                          0     0    1  ...   0      0           0   0   \n",
       "...                      ...   ...  ...  ...  ..    ...         ...  ..   \n",
       "14994                      0     0    1  ...   0      0           0   0   \n",
       "14995                      0     0    1  ...   0      0           0   0   \n",
       "14996                      0     0    1  ...   0      0           0   0   \n",
       "14997                      0     0    1  ...   0      0           0   0   \n",
       "14998                      0     0    1  ...   0      0           0   0   \n",
       "\n",
       "       management  marketing  product_mng  sales  support  technical  \n",
       "0               0          0            0      1        0          0  \n",
       "1               0          0            0      1        0          0  \n",
       "2               0          0            0      1        0          0  \n",
       "3               0          0            0      1        0          0  \n",
       "4               0          0            0      1        0          0  \n",
       "...           ...        ...          ...    ...      ...        ...  \n",
       "14994           0          0            0      0        1          0  \n",
       "14995           0          0            0      0        1          0  \n",
       "14996           0          0            0      0        1          0  \n",
       "14997           0          0            0      0        1          0  \n",
       "14998           0          0            0      0        1          0  \n",
       "\n",
       "[14999 rows x 21 columns]"
      ]
     },
     "execution_count": 16,
     "metadata": {},
     "output_type": "execute_result"
    }
   ],
   "source": [
    "data"
   ]
  },
  {
   "cell_type": "code",
   "execution_count": 17,
   "metadata": {},
   "outputs": [
    {
     "data": {
      "text/plain": [
       "0    11428\n",
       "1     3571\n",
       "Name: left, dtype: int64"
      ]
     },
     "execution_count": 17,
     "metadata": {},
     "output_type": "execute_result"
    }
   ],
   "source": [
    "data.left.value_counts()"
   ]
  },
  {
   "cell_type": "code",
   "execution_count": 28,
   "metadata": {},
   "outputs": [
    {
     "data": {
      "text/plain": [
       "0.7619174611640777"
      ]
     },
     "execution_count": 28,
     "metadata": {},
     "output_type": "execute_result"
    }
   ],
   "source": [
    "11428/len(data)"
   ]
  },
  {
   "cell_type": "code",
   "execution_count": 29,
   "metadata": {},
   "outputs": [],
   "source": [
    "Y_data = data.left.values.reshape(-1,1)"
   ]
  },
  {
   "cell_type": "code",
   "execution_count": 30,
   "metadata": {},
   "outputs": [
    {
     "data": {
      "text/plain": [
       "(14999, 1)"
      ]
     },
     "execution_count": 30,
     "metadata": {},
     "output_type": "execute_result"
    }
   ],
   "source": [
    "Y_data.shape"
   ]
  },
  {
   "cell_type": "code",
   "execution_count": 34,
   "metadata": {},
   "outputs": [],
   "source": [
    "Y = torch.from_numpy(Y_data).type(torch.FloatTensor)"
   ]
  },
  {
   "cell_type": "code",
   "execution_count": 38,
   "metadata": {},
   "outputs": [],
   "source": [
    "X_data = data[[c for c in data.columns if c != 'left']].values"
   ]
  },
  {
   "cell_type": "code",
   "execution_count": 39,
   "metadata": {},
   "outputs": [],
   "source": [
    "X = torch.from_numpy(X_data).type(torch.FloatTensor)"
   ]
  },
  {
   "cell_type": "code",
   "execution_count": 40,
   "metadata": {},
   "outputs": [
    {
     "data": {
      "text/plain": [
       "torch.Size([14999, 20])"
      ]
     },
     "execution_count": 40,
     "metadata": {},
     "output_type": "execute_result"
    }
   ],
   "source": [
    "X.size()"
   ]
  },
  {
   "cell_type": "code",
   "execution_count": 42,
   "metadata": {},
   "outputs": [
    {
     "data": {
      "text/plain": [
       "torch.Size([14999, 1])"
      ]
     },
     "execution_count": 42,
     "metadata": {},
     "output_type": "execute_result"
    }
   ],
   "source": [
    "Y.shape"
   ]
  },
  {
   "cell_type": "markdown",
   "metadata": {},
   "source": [
    "创建模型"
   ]
  },
  {
   "cell_type": "code",
   "execution_count": 43,
   "metadata": {},
   "outputs": [],
   "source": [
    "from torch import nn"
   ]
  },
  {
   "cell_type": "markdown",
   "metadata": {},
   "source": [
    "#自定义模型\n",
    "nn.module:   #基础\n",
    "__init__:    #初始化所有的层\n",
    "forward:     #定义模型的运算过程 (前向传播的过程)"
   ]
  },
  {
   "cell_type": "code",
   "execution_count": 44,
   "metadata": {},
   "outputs": [],
   "source": [
    "class Model(nn.Module):\n",
    "    def __init__(self):\n",
    "        super().__init__()\n",
    "        self.liner_1 = nn.Linear(20, 64)\n",
    "        self.liner_2 = nn.Linear(64, 64)\n",
    "        self.liner_3 = nn.Linear(64, 1)\n",
    "        self.relu = nn.ReLU()\n",
    "        self.sigmoid = nn.Sigmoid()\n",
    "    def forward(self,input):\n",
    "        x = self.liner_1(input)\n",
    "        x = self.relu(x)\n",
    "        x = self.liner_2(x)\n",
    "        x = self.relu(x)\n",
    "        x = self.liner_3(x)\n",
    "        x = self.sigmoid(x)\n",
    "        return x"
   ]
  },
  {
   "cell_type": "code",
   "execution_count": 45,
   "metadata": {},
   "outputs": [],
   "source": [
    "model = Model()"
   ]
  },
  {
   "cell_type": "code",
   "execution_count": 50,
   "metadata": {},
   "outputs": [
    {
     "data": {
      "text/plain": [
       "Model(\n",
       "  (liner_1): Linear(in_features=20, out_features=64, bias=True)\n",
       "  (liner_2): Linear(in_features=64, out_features=64, bias=True)\n",
       "  (liner_3): Linear(in_features=64, out_features=1, bias=True)\n",
       ")"
      ]
     },
     "execution_count": 50,
     "metadata": {},
     "output_type": "execute_result"
    }
   ],
   "source": [
    "model"
   ]
  },
  {
   "cell_type": "markdown",
   "metadata": {},
   "source": [
    "改写模型"
   ]
  },
  {
   "cell_type": "code",
   "execution_count": 46,
   "metadata": {},
   "outputs": [],
   "source": [
    "import torch.nn.functional as F"
   ]
  },
  {
   "cell_type": "code",
   "execution_count": 47,
   "metadata": {},
   "outputs": [],
   "source": [
    "class Model(nn.Module):\n",
    "    def __init__(self):\n",
    "        super().__init__()\n",
    "        self.liner_1 = nn.Linear(20, 64)\n",
    "        self.liner_2 = nn.Linear(64, 64)\n",
    "        self.liner_3 = nn.Linear(64, 1)\n",
    "    def forward(self,input):\n",
    "        x = F.relu(self.liner_1(input))\n",
    "        x = F.relu(self.liner_2(x))\n",
    "        x = F.sigmoid(self.liner_3(x))\n",
    "        return x"
   ]
  },
  {
   "cell_type": "code",
   "execution_count": 48,
   "metadata": {},
   "outputs": [],
   "source": [
    "model = Model()"
   ]
  },
  {
   "cell_type": "code",
   "execution_count": 49,
   "metadata": {},
   "outputs": [
    {
     "data": {
      "text/plain": [
       "Model(\n",
       "  (liner_1): Linear(in_features=20, out_features=64, bias=True)\n",
       "  (liner_2): Linear(in_features=64, out_features=64, bias=True)\n",
       "  (liner_3): Linear(in_features=64, out_features=1, bias=True)\n",
       ")"
      ]
     },
     "execution_count": 49,
     "metadata": {},
     "output_type": "execute_result"
    }
   ],
   "source": [
    "model"
   ]
  },
  {
   "cell_type": "code",
   "execution_count": 51,
   "metadata": {},
   "outputs": [],
   "source": [
    "lr = 0.0001"
   ]
  },
  {
   "cell_type": "code",
   "execution_count": 52,
   "metadata": {},
   "outputs": [],
   "source": [
    "def get_model():\n",
    "    model = Model()\n",
    "    opt = torch.optim.Adam(model.parameters(),lr = lr)\n",
    "    return model,opt"
   ]
  },
  {
   "cell_type": "code",
   "execution_count": 53,
   "metadata": {},
   "outputs": [],
   "source": [
    "model,optim = get_model()"
   ]
  },
  {
   "cell_type": "markdown",
   "metadata": {},
   "source": [
    "定义损失函数"
   ]
  },
  {
   "cell_type": "code",
   "execution_count": 54,
   "metadata": {},
   "outputs": [],
   "source": [
    "loss_fn = nn.BCELoss()"
   ]
  },
  {
   "cell_type": "code",
   "execution_count": 57,
   "metadata": {},
   "outputs": [],
   "source": [
    "batch = 64\n",
    "no_of_batches = len(data)//batch\n",
    "epoches  = 100"
   ]
  },
  {
   "cell_type": "code",
   "execution_count": 61,
   "metadata": {},
   "outputs": [
    {
     "name": "stdout",
     "output_type": "stream",
     "text": [
      "epoch: 0 loss: 0.5050098896026611\n",
      "epoch: 1 loss: 0.504662275314331\n",
      "epoch: 2 loss: 0.5026178359985352\n",
      "epoch: 3 loss: 0.5027983784675598\n",
      "epoch: 4 loss: 0.5001523494720459\n",
      "epoch: 5 loss: 0.4984411597251892\n",
      "epoch: 6 loss: 0.49759751558303833\n",
      "epoch: 7 loss: 0.49657002091407776\n",
      "epoch: 8 loss: 0.4954419732093811\n",
      "epoch: 9 loss: 0.4930681884288788\n",
      "epoch: 10 loss: 0.49282726645469666\n",
      "epoch: 11 loss: 0.49089717864990234\n",
      "epoch: 12 loss: 0.4902932643890381\n",
      "epoch: 13 loss: 0.48877665400505066\n",
      "epoch: 14 loss: 0.4878871738910675\n",
      "epoch: 15 loss: 0.48693984746932983\n",
      "epoch: 16 loss: 0.48580920696258545\n",
      "epoch: 17 loss: 0.4841900169849396\n",
      "epoch: 18 loss: 0.4831245243549347\n",
      "epoch: 19 loss: 0.48186028003692627\n",
      "epoch: 20 loss: 0.48098641633987427\n",
      "epoch: 21 loss: 0.47992926836013794\n",
      "epoch: 22 loss: 0.478645384311676\n",
      "epoch: 23 loss: 0.47651126980781555\n",
      "epoch: 24 loss: 0.4755847454071045\n",
      "epoch: 25 loss: 0.4746263027191162\n",
      "epoch: 26 loss: 0.4732291102409363\n",
      "epoch: 27 loss: 0.47287240624427795\n",
      "epoch: 28 loss: 0.47057175636291504\n",
      "epoch: 29 loss: 0.4749890863895416\n",
      "epoch: 30 loss: 0.4731380343437195\n",
      "epoch: 31 loss: 0.46981704235076904\n",
      "epoch: 32 loss: 0.4682791233062744\n",
      "epoch: 33 loss: 0.4664680063724518\n",
      "epoch: 34 loss: 0.4648575782775879\n",
      "epoch: 35 loss: 0.463949978351593\n",
      "epoch: 36 loss: 0.4671626687049866\n",
      "epoch: 37 loss: 0.4639545679092407\n",
      "epoch: 38 loss: 0.46545398235321045\n",
      "epoch: 39 loss: 0.46469148993492126\n",
      "epoch: 40 loss: 0.4582689702510834\n",
      "epoch: 41 loss: 0.45896458625793457\n",
      "epoch: 42 loss: 0.4540832042694092\n",
      "epoch: 43 loss: 0.4546746611595154\n",
      "epoch: 44 loss: 0.4505379796028137\n",
      "epoch: 45 loss: 0.4518565535545349\n",
      "epoch: 46 loss: 0.4475962519645691\n",
      "epoch: 47 loss: 0.4464811682701111\n",
      "epoch: 48 loss: 0.44429969787597656\n",
      "epoch: 49 loss: 0.44264379143714905\n",
      "epoch: 50 loss: 0.4408242404460907\n",
      "epoch: 51 loss: 0.43878406286239624\n",
      "epoch: 52 loss: 0.43831709027290344\n",
      "epoch: 53 loss: 0.4367990493774414\n",
      "epoch: 54 loss: 0.43420910835266113\n",
      "epoch: 55 loss: 0.4323703646659851\n",
      "epoch: 56 loss: 0.4305632710456848\n",
      "epoch: 57 loss: 0.42883631587028503\n",
      "epoch: 58 loss: 0.42701947689056396\n",
      "epoch: 59 loss: 0.4252814054489136\n",
      "epoch: 60 loss: 0.42353275418281555\n",
      "epoch: 61 loss: 0.42178359627723694\n",
      "epoch: 62 loss: 0.4200478792190552\n",
      "epoch: 63 loss: 0.4183083772659302\n",
      "epoch: 64 loss: 0.41664308309555054\n",
      "epoch: 65 loss: 0.4150945246219635\n",
      "epoch: 66 loss: 0.41369402408599854\n",
      "epoch: 67 loss: 0.41186606884002686\n",
      "epoch: 68 loss: 0.4103381633758545\n",
      "epoch: 69 loss: 0.40861159563064575\n",
      "epoch: 70 loss: 0.40818503499031067\n",
      "epoch: 71 loss: 0.4062509536743164\n",
      "epoch: 72 loss: 0.40557798743247986\n",
      "epoch: 73 loss: 0.40306541323661804\n",
      "epoch: 74 loss: 0.400748074054718\n",
      "epoch: 75 loss: 0.39898502826690674\n",
      "epoch: 76 loss: 0.3975357413291931\n",
      "epoch: 77 loss: 0.3961977958679199\n",
      "epoch: 78 loss: 0.3947075605392456\n",
      "epoch: 79 loss: 0.3934234380722046\n",
      "epoch: 80 loss: 0.39189302921295166\n",
      "epoch: 81 loss: 0.39077940583229065\n",
      "epoch: 82 loss: 0.3892097473144531\n",
      "epoch: 83 loss: 0.38820257782936096\n",
      "epoch: 84 loss: 0.38664308190345764\n",
      "epoch: 85 loss: 0.3856755793094635\n",
      "epoch: 86 loss: 0.3841615617275238\n",
      "epoch: 87 loss: 0.3832053542137146\n",
      "epoch: 88 loss: 0.3816389739513397\n",
      "epoch: 89 loss: 0.3806406855583191\n",
      "epoch: 90 loss: 0.3792884051799774\n",
      "epoch: 91 loss: 0.378146767616272\n",
      "epoch: 92 loss: 0.37694746255874634\n",
      "epoch: 93 loss: 0.37612125277519226\n",
      "epoch: 94 loss: 0.3747878670692444\n",
      "epoch: 95 loss: 0.37374961376190186\n",
      "epoch: 96 loss: 0.3724024295806885\n",
      "epoch: 97 loss: 0.37173140048980713\n",
      "epoch: 98 loss: 0.3702757954597473\n",
      "epoch: 99 loss: 0.3725356459617615\n"
     ]
    }
   ],
   "source": [
    "for epoch in range(epoches):\n",
    "    for i in range(no_of_batches):\n",
    "        start = i * batch\n",
    "        end = start + batch\n",
    "        x = X[start:end]\n",
    "        y = Y[start:end]\n",
    "        y_pred = model(x)\n",
    "        loss = loss_fn(y_pred,y)\n",
    "        optim.zero_grad()\n",
    "        loss.backward()\n",
    "        optim.step()\n",
    "    with torch.no_grad():\n",
    "        print('epoch:',epoch,'loss:',loss_fn(model(X),Y).data.item())\n",
    "    "
   ]
  },
  {
   "cell_type": "markdown",
   "metadata": {},
   "source": [
    "使用dataset类进行重构"
   ]
  },
  {
   "cell_type": "code",
   "execution_count": 62,
   "metadata": {},
   "outputs": [],
   "source": [
    "from torch.utils.data import TensorDataset"
   ]
  },
  {
   "cell_type": "code",
   "execution_count": 63,
   "metadata": {},
   "outputs": [],
   "source": [
    "HRdataset = TensorDataset(X,Y)"
   ]
  },
  {
   "cell_type": "code",
   "execution_count": 64,
   "metadata": {},
   "outputs": [
    {
     "data": {
      "text/plain": [
       "<torch.utils.data.dataset.TensorDataset at 0x139f7fb2e10>"
      ]
     },
     "execution_count": 64,
     "metadata": {},
     "output_type": "execute_result"
    }
   ],
   "source": [
    "HRdataset"
   ]
  },
  {
   "cell_type": "code",
   "execution_count": 65,
   "metadata": {},
   "outputs": [
    {
     "data": {
      "text/plain": [
       "14999"
      ]
     },
     "execution_count": 65,
     "metadata": {},
     "output_type": "execute_result"
    }
   ],
   "source": [
    "len(HRdataset)"
   ]
  },
  {
   "cell_type": "code",
   "execution_count": 67,
   "metadata": {},
   "outputs": [
    {
     "data": {
      "text/plain": [
       "(tensor([  0.3800,   0.5300,   2.0000, 157.0000,   3.0000,   0.0000,   0.0000,\n",
       "           0.0000,   1.0000,   0.0000,   0.0000,   0.0000,   0.0000,   0.0000,\n",
       "           0.0000,   0.0000,   0.0000,   1.0000,   0.0000,   0.0000]),\n",
       " tensor([1.]))"
      ]
     },
     "execution_count": 67,
     "metadata": {},
     "output_type": "execute_result"
    }
   ],
   "source": [
    "HRdataset[0]"
   ]
  },
  {
   "cell_type": "code",
   "execution_count": 68,
   "metadata": {},
   "outputs": [
    {
     "data": {
      "text/plain": [
       "(tensor([[1.1000e-01, 8.8000e-01, 7.0000e+00, 2.7200e+02, 4.0000e+00, 0.0000e+00,\n",
       "          0.0000e+00, 0.0000e+00, 0.0000e+00, 1.0000e+00, 0.0000e+00, 0.0000e+00,\n",
       "          0.0000e+00, 0.0000e+00, 0.0000e+00, 0.0000e+00, 0.0000e+00, 1.0000e+00,\n",
       "          0.0000e+00, 0.0000e+00],\n",
       "         [7.2000e-01, 8.7000e-01, 5.0000e+00, 2.2300e+02, 5.0000e+00, 0.0000e+00,\n",
       "          0.0000e+00, 0.0000e+00, 1.0000e+00, 0.0000e+00, 0.0000e+00, 0.0000e+00,\n",
       "          0.0000e+00, 0.0000e+00, 0.0000e+00, 0.0000e+00, 0.0000e+00, 1.0000e+00,\n",
       "          0.0000e+00, 0.0000e+00],\n",
       "         [3.7000e-01, 5.2000e-01, 2.0000e+00, 1.5900e+02, 3.0000e+00, 0.0000e+00,\n",
       "          0.0000e+00, 0.0000e+00, 1.0000e+00, 0.0000e+00, 0.0000e+00, 0.0000e+00,\n",
       "          0.0000e+00, 0.0000e+00, 0.0000e+00, 0.0000e+00, 0.0000e+00, 1.0000e+00,\n",
       "          0.0000e+00, 0.0000e+00]]),\n",
       " tensor([[1.],\n",
       "         [1.],\n",
       "         [1.]]))"
      ]
     },
     "execution_count": 68,
     "metadata": {},
     "output_type": "execute_result"
    }
   ],
   "source": [
    "HRdataset[2:5]"
   ]
  },
  {
   "cell_type": "code",
   "execution_count": 69,
   "metadata": {},
   "outputs": [],
   "source": [
    "model,optim = get_model()"
   ]
  },
  {
   "cell_type": "code",
   "execution_count": 70,
   "metadata": {},
   "outputs": [
    {
     "name": "stdout",
     "output_type": "stream",
     "text": [
      "epoch: 0 loss: 0.7106070518493652\n",
      "epoch: 1 loss: 0.7259021401405334\n",
      "epoch: 2 loss: 0.7270771861076355\n",
      "epoch: 3 loss: 0.7227984070777893\n",
      "epoch: 4 loss: 0.7119989395141602\n",
      "epoch: 5 loss: 0.7036832571029663\n",
      "epoch: 6 loss: 0.690563976764679\n",
      "epoch: 7 loss: 0.6812061071395874\n",
      "epoch: 8 loss: 0.6711769700050354\n",
      "epoch: 9 loss: 0.6481488943099976\n",
      "epoch: 10 loss: 0.6359529495239258\n",
      "epoch: 11 loss: 0.627331554889679\n",
      "epoch: 12 loss: 0.6187276244163513\n",
      "epoch: 13 loss: 0.6104666590690613\n",
      "epoch: 14 loss: 0.6025253534317017\n",
      "epoch: 15 loss: 0.5951630473136902\n",
      "epoch: 16 loss: 0.588044285774231\n",
      "epoch: 17 loss: 0.5816576480865479\n",
      "epoch: 18 loss: 0.5759221315383911\n",
      "epoch: 19 loss: 0.5708535313606262\n",
      "epoch: 20 loss: 0.5686362981796265\n",
      "epoch: 21 loss: 0.5690157413482666\n",
      "epoch: 22 loss: 0.563781201839447\n",
      "epoch: 23 loss: 0.5614559650421143\n",
      "epoch: 24 loss: 0.5614914298057556\n",
      "epoch: 25 loss: 0.5615995526313782\n",
      "epoch: 26 loss: 0.5617489218711853\n",
      "epoch: 27 loss: 0.5619950294494629\n",
      "epoch: 28 loss: 0.5621839761734009\n",
      "epoch: 29 loss: 0.5619381070137024\n",
      "epoch: 30 loss: 0.5630073547363281\n",
      "epoch: 31 loss: 0.5603306293487549\n",
      "epoch: 32 loss: 0.5635516047477722\n",
      "epoch: 33 loss: 0.5638229846954346\n",
      "epoch: 34 loss: 0.5650213360786438\n",
      "epoch: 35 loss: 0.5636688470840454\n",
      "epoch: 36 loss: 0.5605359077453613\n",
      "epoch: 37 loss: 0.5609021186828613\n",
      "epoch: 38 loss: 0.5615692734718323\n",
      "epoch: 39 loss: 0.5627387166023254\n",
      "epoch: 40 loss: 0.5624774694442749\n",
      "epoch: 41 loss: 0.5630612373352051\n",
      "epoch: 42 loss: 0.5648183226585388\n",
      "epoch: 43 loss: 0.5639675259590149\n",
      "epoch: 44 loss: 0.5643668174743652\n",
      "epoch: 45 loss: 0.563732385635376\n",
      "epoch: 46 loss: 0.5639876127243042\n",
      "epoch: 47 loss: 0.5632964968681335\n",
      "epoch: 48 loss: 0.5621000528335571\n",
      "epoch: 49 loss: 0.5681732296943665\n",
      "epoch: 50 loss: 0.5605809688568115\n",
      "epoch: 51 loss: 0.5608842968940735\n",
      "epoch: 52 loss: 0.5607593655586243\n",
      "epoch: 53 loss: 0.559036374092102\n",
      "epoch: 54 loss: 0.5654991865158081\n",
      "epoch: 55 loss: 0.5597698092460632\n",
      "epoch: 56 loss: 0.5596519112586975\n",
      "epoch: 57 loss: 0.5591657161712646\n",
      "epoch: 58 loss: 0.558606743812561\n",
      "epoch: 59 loss: 0.5548473000526428\n",
      "epoch: 60 loss: 0.558624804019928\n",
      "epoch: 61 loss: 0.5567293763160706\n",
      "epoch: 62 loss: 0.5565728545188904\n",
      "epoch: 63 loss: 0.5561766028404236\n",
      "epoch: 64 loss: 0.554936408996582\n",
      "epoch: 65 loss: 0.5550238490104675\n",
      "epoch: 66 loss: 0.5552763938903809\n",
      "epoch: 67 loss: 0.5528562664985657\n",
      "epoch: 68 loss: 0.5548989176750183\n",
      "epoch: 69 loss: 0.5545084476470947\n",
      "epoch: 70 loss: 0.5533826351165771\n",
      "epoch: 71 loss: 0.5498637557029724\n",
      "epoch: 72 loss: 0.5526674389839172\n",
      "epoch: 73 loss: 0.5514062643051147\n",
      "epoch: 74 loss: 0.5522018074989319\n",
      "epoch: 75 loss: 0.5498350858688354\n",
      "epoch: 76 loss: 0.5506439805030823\n",
      "epoch: 77 loss: 0.5501562356948853\n",
      "epoch: 78 loss: 0.5507791042327881\n",
      "epoch: 79 loss: 0.5481927990913391\n",
      "epoch: 80 loss: 0.5478326678276062\n",
      "epoch: 81 loss: 0.5459502935409546\n",
      "epoch: 82 loss: 0.5499280691146851\n",
      "epoch: 83 loss: 0.5480376482009888\n",
      "epoch: 84 loss: 0.5458203554153442\n",
      "epoch: 85 loss: 0.5462275743484497\n",
      "epoch: 86 loss: 0.5447896122932434\n",
      "epoch: 87 loss: 0.5454492568969727\n",
      "epoch: 88 loss: 0.5435126423835754\n",
      "epoch: 89 loss: 0.5431563854217529\n",
      "epoch: 90 loss: 0.5410823225975037\n",
      "epoch: 91 loss: 0.5418330430984497\n",
      "epoch: 92 loss: 0.5406827926635742\n",
      "epoch: 93 loss: 0.5387884974479675\n",
      "epoch: 94 loss: 0.5390645265579224\n",
      "epoch: 95 loss: 0.536668062210083\n",
      "epoch: 96 loss: 0.5383603572845459\n",
      "epoch: 97 loss: 0.5365488529205322\n",
      "epoch: 98 loss: 0.5417277812957764\n",
      "epoch: 99 loss: 0.5327239632606506\n"
     ]
    }
   ],
   "source": [
    "for epoch in range(epoches):\n",
    "    for i in range(no_of_batches):\n",
    "        x, y = HRdataset[i * batch: i*batch+batch]\n",
    "        y_pred = model(x)\n",
    "        loss = loss_fn(y_pred,y)\n",
    "        optim.zero_grad()\n",
    "        loss.backward()\n",
    "        optim.step()\n",
    "    with torch.no_grad():\n",
    "        print('epoch:',epoch,'loss:',loss_fn(model(X),Y).data.item())"
   ]
  },
  {
   "cell_type": "markdown",
   "metadata": {},
   "source": [
    " dataloader类"
   ]
  },
  {
   "cell_type": "code",
   "execution_count": 71,
   "metadata": {},
   "outputs": [],
   "source": [
    "from torch.utils.data import DataLoader"
   ]
  },
  {
   "cell_type": "code",
   "execution_count": 75,
   "metadata": {},
   "outputs": [],
   "source": [
    "HR_ds = TensorDataset(X, Y)\n",
    "HR_dl = DataLoader(HR_ds,batch_size = batch,shuffle = True)"
   ]
  },
  {
   "cell_type": "code",
   "execution_count": 76,
   "metadata": {},
   "outputs": [],
   "source": [
    "model,optim = get_model()"
   ]
  },
  {
   "cell_type": "code",
   "execution_count": 77,
   "metadata": {},
   "outputs": [
    {
     "name": "stdout",
     "output_type": "stream",
     "text": [
      "epoch: 0 loss: 0.5626465678215027\n",
      "epoch: 1 loss: 0.561223030090332\n",
      "epoch: 2 loss: 0.556711733341217\n",
      "epoch: 3 loss: 0.5546606183052063\n",
      "epoch: 4 loss: 0.5495873093605042\n",
      "epoch: 5 loss: 0.5503899455070496\n",
      "epoch: 6 loss: 0.5417469143867493\n",
      "epoch: 7 loss: 0.5370489358901978\n",
      "epoch: 8 loss: 0.532516360282898\n",
      "epoch: 9 loss: 0.5286435484886169\n",
      "epoch: 10 loss: 0.5251564383506775\n",
      "epoch: 11 loss: 0.5177542567253113\n",
      "epoch: 12 loss: 0.5124660730361938\n",
      "epoch: 13 loss: 0.515972375869751\n",
      "epoch: 14 loss: 0.4990144670009613\n",
      "epoch: 15 loss: 0.49341779947280884\n",
      "epoch: 16 loss: 0.4863510727882385\n",
      "epoch: 17 loss: 0.4833926558494568\n",
      "epoch: 18 loss: 0.4720649719238281\n",
      "epoch: 19 loss: 0.4754544496536255\n",
      "epoch: 20 loss: 0.45993277430534363\n",
      "epoch: 21 loss: 0.45453140139579773\n",
      "epoch: 22 loss: 0.4466542899608612\n",
      "epoch: 23 loss: 0.4429296553134918\n",
      "epoch: 24 loss: 0.4471398591995239\n",
      "epoch: 25 loss: 0.4330584406852722\n",
      "epoch: 26 loss: 0.4274766147136688\n",
      "epoch: 27 loss: 0.421094685792923\n",
      "epoch: 28 loss: 0.4169382154941559\n",
      "epoch: 29 loss: 0.41252586245536804\n",
      "epoch: 30 loss: 0.4090335965156555\n",
      "epoch: 31 loss: 0.40984079241752625\n",
      "epoch: 32 loss: 0.4024936854839325\n",
      "epoch: 33 loss: 0.39850038290023804\n",
      "epoch: 34 loss: 0.39958545565605164\n",
      "epoch: 35 loss: 0.39223337173461914\n",
      "epoch: 36 loss: 0.38758763670921326\n",
      "epoch: 37 loss: 0.3842909336090088\n",
      "epoch: 38 loss: 0.38578084111213684\n",
      "epoch: 39 loss: 0.373343288898468\n",
      "epoch: 40 loss: 0.3679583966732025\n",
      "epoch: 41 loss: 0.36893749237060547\n",
      "epoch: 42 loss: 0.36153939366340637\n",
      "epoch: 43 loss: 0.3574196398258209\n",
      "epoch: 44 loss: 0.35313090682029724\n",
      "epoch: 45 loss: 0.35438063740730286\n",
      "epoch: 46 loss: 0.34727635979652405\n",
      "epoch: 47 loss: 0.3469509184360504\n",
      "epoch: 48 loss: 0.34188586473464966\n",
      "epoch: 49 loss: 0.3419654667377472\n",
      "epoch: 50 loss: 0.33753782510757446\n",
      "epoch: 51 loss: 0.3311975300312042\n",
      "epoch: 52 loss: 0.33272409439086914\n",
      "epoch: 53 loss: 0.3273152709007263\n",
      "epoch: 54 loss: 0.32699134945869446\n",
      "epoch: 55 loss: 0.3220655918121338\n",
      "epoch: 56 loss: 0.3206753134727478\n",
      "epoch: 57 loss: 0.3170925974845886\n",
      "epoch: 58 loss: 0.31481626629829407\n",
      "epoch: 59 loss: 0.31338465213775635\n",
      "epoch: 60 loss: 0.3149223327636719\n",
      "epoch: 61 loss: 0.3194464445114136\n",
      "epoch: 62 loss: 0.307280570268631\n",
      "epoch: 63 loss: 0.3047090470790863\n",
      "epoch: 64 loss: 0.3021296262741089\n",
      "epoch: 65 loss: 0.3160414397716522\n",
      "epoch: 66 loss: 0.29959213733673096\n",
      "epoch: 67 loss: 0.297702431678772\n",
      "epoch: 68 loss: 0.3097416162490845\n",
      "epoch: 69 loss: 0.29546380043029785\n",
      "epoch: 70 loss: 0.29376840591430664\n",
      "epoch: 71 loss: 0.3039725422859192\n",
      "epoch: 72 loss: 0.2960013747215271\n",
      "epoch: 73 loss: 0.2943929433822632\n",
      "epoch: 74 loss: 0.28789639472961426\n",
      "epoch: 75 loss: 0.28839346766471863\n",
      "epoch: 76 loss: 0.28524333238601685\n",
      "epoch: 77 loss: 0.28299278020858765\n",
      "epoch: 78 loss: 0.28275635838508606\n",
      "epoch: 79 loss: 0.28617963194847107\n",
      "epoch: 80 loss: 0.28075823187828064\n",
      "epoch: 81 loss: 0.27859002351760864\n",
      "epoch: 82 loss: 0.27921390533447266\n",
      "epoch: 83 loss: 0.27786946296691895\n",
      "epoch: 84 loss: 0.27637460827827454\n",
      "epoch: 85 loss: 0.2750072479248047\n",
      "epoch: 86 loss: 0.2759401500225067\n",
      "epoch: 87 loss: 0.2773269712924957\n",
      "epoch: 88 loss: 0.27200183272361755\n",
      "epoch: 89 loss: 0.270033597946167\n",
      "epoch: 90 loss: 0.2701035141944885\n",
      "epoch: 91 loss: 0.27452391386032104\n",
      "epoch: 92 loss: 0.27050650119781494\n",
      "epoch: 93 loss: 0.26746004819869995\n",
      "epoch: 94 loss: 0.27241572737693787\n",
      "epoch: 95 loss: 0.267579585313797\n",
      "epoch: 96 loss: 0.26499810814857483\n",
      "epoch: 97 loss: 0.2677522897720337\n",
      "epoch: 98 loss: 0.2678726017475128\n",
      "epoch: 99 loss: 0.26183074712753296\n"
     ]
    }
   ],
   "source": [
    "for epoch in range(epoches):\n",
    "    for x,y in HR_dl:\n",
    "        y_pred = model(x)\n",
    "        loss = loss_fn(y_pred,y)\n",
    "        optim.zero_grad()\n",
    "        loss.backward()\n",
    "        optim.step()\n",
    "    with torch.no_grad():\n",
    "        print('epoch:',epoch,'loss:',loss_fn(model(X),Y).data.item())"
   ]
  },
  {
   "cell_type": "markdown",
   "metadata": {},
   "source": [
    " 添加验证\n",
    " 了解过拟合和欠拟合"
   ]
  },
  {
   "cell_type": "markdown",
   "metadata": {},
   "source": [
    "过拟合:对于训练数据过度拟合,对于未知数据预测很差\n",
    "欠拟合:对于训练数据拟合不够,对于未知数据预测很差\n",
    "sklearn   pip install sklearn"
   ]
  },
  {
   "cell_type": "code",
   "execution_count": 79,
   "metadata": {},
   "outputs": [],
   "source": [
    "from sklearn.model_selection import train_test_split"
   ]
  },
  {
   "cell_type": "code",
   "execution_count": 81,
   "metadata": {},
   "outputs": [],
   "source": [
    "train_x,test_x,train_y,test_y = train_test_split(X_data,Y_data)"
   ]
  },
  {
   "cell_type": "code",
   "execution_count": 85,
   "metadata": {},
   "outputs": [
    {
     "data": {
      "text/plain": [
       "numpy.ndarray"
      ]
     },
     "execution_count": 85,
     "metadata": {},
     "output_type": "execute_result"
    }
   ],
   "source": [
    "type(train_x)"
   ]
  },
  {
   "cell_type": "code",
   "execution_count": 86,
   "metadata": {},
   "outputs": [],
   "source": [
    "train_x = torch.from_numpy(train_x).type(torch.float32)\n",
    "train_y = torch.from_numpy(train_y).type(torch.float32)\n",
    "test_x = torch.from_numpy(test_x).type(torch.float32)\n",
    "test_y = torch.from_numpy(test_y).type(torch.float32)"
   ]
  },
  {
   "cell_type": "code",
   "execution_count": null,
   "metadata": {},
   "outputs": [],
   "source": []
  },
  {
   "cell_type": "code",
   "execution_count": null,
   "metadata": {},
   "outputs": [],
   "source": []
  },
  {
   "cell_type": "code",
   "execution_count": 82,
   "metadata": {},
   "outputs": [
    {
     "data": {
      "text/plain": [
       "(14999, 20)"
      ]
     },
     "execution_count": 82,
     "metadata": {},
     "output_type": "execute_result"
    }
   ],
   "source": [
    "X_data.shape"
   ]
  },
  {
   "cell_type": "code",
   "execution_count": 84,
   "metadata": {},
   "outputs": [
    {
     "data": {
      "text/plain": [
       "((11249, 20), (3750, 20), (11249, 1))"
      ]
     },
     "execution_count": 84,
     "metadata": {},
     "output_type": "execute_result"
    }
   ],
   "source": [
    "train_x.shape,test_x.shape,train_y.shape"
   ]
  },
  {
   "cell_type": "code",
   "execution_count": 87,
   "metadata": {},
   "outputs": [],
   "source": [
    "train_ds = TensorDataset(train_x, train_y)\n",
    "train_dl = DataLoader(train_ds,batch_size = batch,shuffle = True)"
   ]
  },
  {
   "cell_type": "code",
   "execution_count": 89,
   "metadata": {},
   "outputs": [],
   "source": [
    "test_ds = TensorDataset(test_x, test_y)\n",
    "test_dl = DataLoader(test_ds,batch_size = batch)"
   ]
  },
  {
   "cell_type": "markdown",
   "metadata": {},
   "source": [
    "如何计算正确率"
   ]
  },
  {
   "cell_type": "markdown",
   "metadata": {},
   "source": [
    "Y_pred = (y_pred > 0.5).type(torch.int32)\n",
    "(y_pred == labels).float().mean()     #[True,False,True]"
   ]
  },
  {
   "cell_type": "code",
   "execution_count": 94,
   "metadata": {},
   "outputs": [],
   "source": [
    "def accuracy(y_pred,y_true):\n",
    "    y_pred = (y_pred > 0.5).type(torch.int32)\n",
    "    acc = (y_pred == y_true).float().mean()\n",
    "    return acc"
   ]
  },
  {
   "cell_type": "code",
   "execution_count": 95,
   "metadata": {},
   "outputs": [],
   "source": [
    "model,optim = get_model()"
   ]
  },
  {
   "cell_type": "code",
   "execution_count": 102,
   "metadata": {},
   "outputs": [
    {
     "name": "stdout",
     "output_type": "stream",
     "text": [
      "epoch: 0 loss: 0.215 accuracy: 0.928 test_loss: 0.191 test_accuracy: 0.935\n",
      "epoch: 1 loss: 0.243 accuracy: 0.904 test_loss: 0.218 test_accuracy: 0.913\n",
      "epoch: 2 loss: 0.227 accuracy: 0.915 test_loss: 0.205 test_accuracy: 0.923\n",
      "epoch: 3 loss: 0.232 accuracy: 0.912 test_loss: 0.211 test_accuracy: 0.921\n",
      "epoch: 4 loss: 0.214 accuracy: 0.929 test_loss: 0.192 test_accuracy: 0.934\n",
      "epoch: 5 loss: 0.213 accuracy: 0.93 test_loss: 0.189 test_accuracy: 0.939\n",
      "epoch: 6 loss: 0.233 accuracy: 0.911 test_loss: 0.21 test_accuracy: 0.918\n",
      "epoch: 7 loss: 0.217 accuracy: 0.932 test_loss: 0.193 test_accuracy: 0.937\n",
      "epoch: 8 loss: 0.217 accuracy: 0.933 test_loss: 0.193 test_accuracy: 0.936\n",
      "epoch: 9 loss: 0.214 accuracy: 0.932 test_loss: 0.191 test_accuracy: 0.938\n",
      "epoch: 10 loss: 0.214 accuracy: 0.929 test_loss: 0.191 test_accuracy: 0.935\n",
      "epoch: 11 loss: 0.214 accuracy: 0.932 test_loss: 0.191 test_accuracy: 0.94\n",
      "epoch: 12 loss: 0.218 accuracy: 0.931 test_loss: 0.194 test_accuracy: 0.937\n",
      "epoch: 13 loss: 0.223 accuracy: 0.928 test_loss: 0.199 test_accuracy: 0.934\n",
      "epoch: 14 loss: 0.213 accuracy: 0.929 test_loss: 0.19 test_accuracy: 0.934\n",
      "epoch: 15 loss: 0.213 accuracy: 0.93 test_loss: 0.189 test_accuracy: 0.938\n",
      "epoch: 16 loss: 0.226 accuracy: 0.916 test_loss: 0.202 test_accuracy: 0.923\n",
      "epoch: 17 loss: 0.22 accuracy: 0.93 test_loss: 0.197 test_accuracy: 0.932\n",
      "epoch: 18 loss: 0.212 accuracy: 0.933 test_loss: 0.189 test_accuracy: 0.939\n",
      "epoch: 19 loss: 0.212 accuracy: 0.93 test_loss: 0.189 test_accuracy: 0.937\n",
      "epoch: 20 loss: 0.213 accuracy: 0.93 test_loss: 0.192 test_accuracy: 0.936\n",
      "epoch: 21 loss: 0.224 accuracy: 0.917 test_loss: 0.202 test_accuracy: 0.925\n",
      "epoch: 22 loss: 0.23 accuracy: 0.913 test_loss: 0.208 test_accuracy: 0.918\n",
      "epoch: 23 loss: 0.216 accuracy: 0.929 test_loss: 0.191 test_accuracy: 0.939\n",
      "epoch: 24 loss: 0.225 accuracy: 0.916 test_loss: 0.202 test_accuracy: 0.923\n",
      "epoch: 25 loss: 0.217 accuracy: 0.923 test_loss: 0.196 test_accuracy: 0.93\n",
      "epoch: 26 loss: 0.212 accuracy: 0.931 test_loss: 0.19 test_accuracy: 0.933\n",
      "epoch: 27 loss: 0.213 accuracy: 0.935 test_loss: 0.192 test_accuracy: 0.936\n",
      "epoch: 28 loss: 0.211 accuracy: 0.932 test_loss: 0.188 test_accuracy: 0.939\n",
      "epoch: 29 loss: 0.213 accuracy: 0.929 test_loss: 0.19 test_accuracy: 0.934\n",
      "epoch: 30 loss: 0.212 accuracy: 0.934 test_loss: 0.188 test_accuracy: 0.94\n",
      "epoch: 31 loss: 0.215 accuracy: 0.926 test_loss: 0.192 test_accuracy: 0.934\n",
      "epoch: 32 loss: 0.215 accuracy: 0.926 test_loss: 0.192 test_accuracy: 0.933\n",
      "epoch: 33 loss: 0.217 accuracy: 0.93 test_loss: 0.193 test_accuracy: 0.934\n",
      "epoch: 34 loss: 0.214 accuracy: 0.932 test_loss: 0.191 test_accuracy: 0.937\n",
      "epoch: 35 loss: 0.211 accuracy: 0.932 test_loss: 0.188 test_accuracy: 0.939\n",
      "epoch: 36 loss: 0.232 accuracy: 0.912 test_loss: 0.208 test_accuracy: 0.919\n",
      "epoch: 37 loss: 0.213 accuracy: 0.927 test_loss: 0.191 test_accuracy: 0.933\n",
      "epoch: 38 loss: 0.211 accuracy: 0.933 test_loss: 0.188 test_accuracy: 0.938\n",
      "epoch: 39 loss: 0.211 accuracy: 0.93 test_loss: 0.188 test_accuracy: 0.938\n",
      "epoch: 40 loss: 0.211 accuracy: 0.932 test_loss: 0.188 test_accuracy: 0.939\n",
      "epoch: 41 loss: 0.214 accuracy: 0.932 test_loss: 0.191 test_accuracy: 0.935\n",
      "epoch: 42 loss: 0.214 accuracy: 0.928 test_loss: 0.193 test_accuracy: 0.932\n",
      "epoch: 43 loss: 0.22 accuracy: 0.919 test_loss: 0.199 test_accuracy: 0.925\n",
      "epoch: 44 loss: 0.211 accuracy: 0.933 test_loss: 0.188 test_accuracy: 0.938\n",
      "epoch: 45 loss: 0.214 accuracy: 0.927 test_loss: 0.193 test_accuracy: 0.931\n",
      "epoch: 46 loss: 0.21 accuracy: 0.934 test_loss: 0.188 test_accuracy: 0.94\n",
      "epoch: 47 loss: 0.224 accuracy: 0.927 test_loss: 0.2 test_accuracy: 0.932\n",
      "epoch: 48 loss: 0.214 accuracy: 0.931 test_loss: 0.192 test_accuracy: 0.933\n",
      "epoch: 49 loss: 0.21 accuracy: 0.934 test_loss: 0.188 test_accuracy: 0.939\n",
      "epoch: 50 loss: 0.211 accuracy: 0.93 test_loss: 0.19 test_accuracy: 0.936\n",
      "epoch: 51 loss: 0.216 accuracy: 0.931 test_loss: 0.191 test_accuracy: 0.937\n",
      "epoch: 52 loss: 0.21 accuracy: 0.932 test_loss: 0.188 test_accuracy: 0.937\n",
      "epoch: 53 loss: 0.209 accuracy: 0.933 test_loss: 0.187 test_accuracy: 0.939\n",
      "epoch: 54 loss: 0.216 accuracy: 0.932 test_loss: 0.193 test_accuracy: 0.935\n",
      "epoch: 55 loss: 0.213 accuracy: 0.925 test_loss: 0.19 test_accuracy: 0.933\n",
      "epoch: 56 loss: 0.235 accuracy: 0.908 test_loss: 0.213 test_accuracy: 0.914\n",
      "epoch: 57 loss: 0.215 accuracy: 0.924 test_loss: 0.194 test_accuracy: 0.93\n",
      "epoch: 58 loss: 0.216 accuracy: 0.931 test_loss: 0.192 test_accuracy: 0.935\n",
      "epoch: 59 loss: 0.21 accuracy: 0.931 test_loss: 0.187 test_accuracy: 0.939\n",
      "epoch: 60 loss: 0.209 accuracy: 0.933 test_loss: 0.187 test_accuracy: 0.939\n",
      "epoch: 61 loss: 0.209 accuracy: 0.932 test_loss: 0.187 test_accuracy: 0.938\n",
      "epoch: 62 loss: 0.224 accuracy: 0.916 test_loss: 0.203 test_accuracy: 0.921\n",
      "epoch: 63 loss: 0.212 accuracy: 0.928 test_loss: 0.19 test_accuracy: 0.933\n",
      "epoch: 64 loss: 0.214 accuracy: 0.93 test_loss: 0.189 test_accuracy: 0.938\n",
      "epoch: 65 loss: 0.252 accuracy: 0.898 test_loss: 0.231 test_accuracy: 0.906\n",
      "epoch: 66 loss: 0.211 accuracy: 0.934 test_loss: 0.186 test_accuracy: 0.94\n",
      "epoch: 67 loss: 0.214 accuracy: 0.932 test_loss: 0.191 test_accuracy: 0.937\n",
      "epoch: 68 loss: 0.209 accuracy: 0.934 test_loss: 0.188 test_accuracy: 0.937\n",
      "epoch: 69 loss: 0.217 accuracy: 0.922 test_loss: 0.196 test_accuracy: 0.928\n",
      "epoch: 70 loss: 0.211 accuracy: 0.93 test_loss: 0.191 test_accuracy: 0.934\n",
      "epoch: 71 loss: 0.214 accuracy: 0.925 test_loss: 0.192 test_accuracy: 0.931\n",
      "epoch: 72 loss: 0.21 accuracy: 0.933 test_loss: 0.187 test_accuracy: 0.938\n",
      "epoch: 73 loss: 0.217 accuracy: 0.922 test_loss: 0.197 test_accuracy: 0.927\n",
      "epoch: 74 loss: 0.212 accuracy: 0.928 test_loss: 0.19 test_accuracy: 0.935\n",
      "epoch: 75 loss: 0.217 accuracy: 0.922 test_loss: 0.195 test_accuracy: 0.928\n",
      "epoch: 76 loss: 0.211 accuracy: 0.928 test_loss: 0.189 test_accuracy: 0.934\n",
      "epoch: 77 loss: 0.213 accuracy: 0.933 test_loss: 0.191 test_accuracy: 0.936\n",
      "epoch: 78 loss: 0.209 accuracy: 0.935 test_loss: 0.188 test_accuracy: 0.938\n",
      "epoch: 79 loss: 0.224 accuracy: 0.917 test_loss: 0.202 test_accuracy: 0.92\n",
      "epoch: 80 loss: 0.218 accuracy: 0.92 test_loss: 0.197 test_accuracy: 0.925\n",
      "epoch: 81 loss: 0.211 accuracy: 0.928 test_loss: 0.19 test_accuracy: 0.931\n",
      "epoch: 82 loss: 0.212 accuracy: 0.93 test_loss: 0.192 test_accuracy: 0.932\n",
      "epoch: 83 loss: 0.214 accuracy: 0.926 test_loss: 0.192 test_accuracy: 0.933\n",
      "epoch: 84 loss: 0.213 accuracy: 0.925 test_loss: 0.193 test_accuracy: 0.929\n",
      "epoch: 85 loss: 0.208 accuracy: 0.933 test_loss: 0.188 test_accuracy: 0.936\n",
      "epoch: 86 loss: 0.216 accuracy: 0.932 test_loss: 0.194 test_accuracy: 0.936\n",
      "epoch: 87 loss: 0.208 accuracy: 0.933 test_loss: 0.187 test_accuracy: 0.938\n",
      "epoch: 88 loss: 0.216 accuracy: 0.929 test_loss: 0.194 test_accuracy: 0.934\n",
      "epoch: 89 loss: 0.207 accuracy: 0.935 test_loss: 0.186 test_accuracy: 0.939\n",
      "epoch: 90 loss: 0.21 accuracy: 0.93 test_loss: 0.189 test_accuracy: 0.933\n",
      "epoch: 91 loss: 0.207 accuracy: 0.933 test_loss: 0.186 test_accuracy: 0.938\n",
      "epoch: 92 loss: 0.209 accuracy: 0.929 test_loss: 0.188 test_accuracy: 0.935\n",
      "epoch: 93 loss: 0.208 accuracy: 0.931 test_loss: 0.187 test_accuracy: 0.937\n",
      "epoch: 94 loss: 0.208 accuracy: 0.936 test_loss: 0.186 test_accuracy: 0.94\n",
      "epoch: 95 loss: 0.207 accuracy: 0.932 test_loss: 0.185 test_accuracy: 0.94\n",
      "epoch: 96 loss: 0.228 accuracy: 0.922 test_loss: 0.206 test_accuracy: 0.926\n",
      "epoch: 97 loss: 0.228 accuracy: 0.923 test_loss: 0.205 test_accuracy: 0.925\n",
      "epoch: 98 loss: 0.208 accuracy: 0.932 test_loss: 0.188 test_accuracy: 0.935\n",
      "epoch: 99 loss: 0.228 accuracy: 0.923 test_loss: 0.204 test_accuracy: 0.927\n"
     ]
    }
   ],
   "source": [
    "for epoch in range(epoches):\n",
    "    for x,y in train_dl:\n",
    "        y_pred = model(x)\n",
    "        loss = loss_fn(y_pred,y)\n",
    "        optim.zero_grad()\n",
    "        loss.backward()\n",
    "        optim.step()\n",
    "    with torch.no_grad():\n",
    "        epoch_accuracy = accuracy(model(train_x),train_y)\n",
    "        epoch_loss = loss_fn(model(train_x),train_y).data\n",
    "        \n",
    "        epoch_test_accuracy = accuracy(model(test_x),test_y)\n",
    "        epoch_test_loss = loss_fn(model(test_x),test_y).data\n",
    "        print('epoch:',epoch,'loss:',round(epoch_loss.item(),3),\n",
    "                             'accuracy:',round(epoch_accuracy.item(),3),\n",
    "                             'test_loss:',round(epoch_test_loss.item(),3),\n",
    "                             'test_accuracy:',round(epoch_test_accuracy.item(),3),\n",
    "             )"
   ]
  },
  {
   "cell_type": "code",
   "execution_count": null,
   "metadata": {},
   "outputs": [],
   "source": []
  }
 ],
 "metadata": {
  "kernelspec": {
   "display_name": "Python 3",
   "language": "python",
   "name": "python3"
  },
  "language_info": {
   "codemirror_mode": {
    "name": "ipython",
    "version": 3
   },
   "file_extension": ".py",
   "mimetype": "text/x-python",
   "name": "python",
   "nbconvert_exporter": "python",
   "pygments_lexer": "ipython3",
   "version": "3.6.5"
  }
 },
 "nbformat": 4,
 "nbformat_minor": 5
}
